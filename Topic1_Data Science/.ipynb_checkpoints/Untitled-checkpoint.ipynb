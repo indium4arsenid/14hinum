{
 "cells": [
  {
   "cell_type": "code",
   "execution_count": 1,
   "id": "62f0b55f-d0ba-4ed7-80ec-4a912468cf4b",
   "metadata": {},
   "outputs": [],
   "source": [
    "# Advaanced Programming project: Data Science project\n"
   ]
  },
  {
   "cell_type": "code",
   "execution_count": null,
   "id": "eabb1e81-5345-4a18-8d40-6e9793369aa8",
   "metadata": {},
   "outputs": [],
   "source": [
    "from IPython.display import Image\n",
    "from IPython.core.display import HTML "
   ]
  },
  {
   "cell_type": "code",
   "execution_count": null,
   "id": "81d0e9fc-705d-4fac-a111-599bdcd1d6ea",
   "metadata": {},
   "outputs": [],
   "source": [
    "import kaggle"
   ]
  },
  {
   "cell_type": "code",
   "execution_count": null,
   "id": "db999d8d-2651-45ab-a103-ca708a5e683c",
   "metadata": {},
   "outputs": [],
   "source": [
    "import os\n"
   ]
  },
  {
   "cell_type": "code",
   "execution_count": 1,
   "id": "57d2493e-2d96-45a7-97b9-021c7994c865",
   "metadata": {},
   "outputs": [
    {
     "name": "stdout",
     "output_type": "stream",
     "text": [
      "C:\\Users\\Jakob\\Desktop\\SoSe 2023\\VU Advanced Programming Techniques\\Portfolio\\14hinum\\Topic1_Data Science\\data\n"
     ]
    }
   ],
   "source": [
    "%cd data\n"
   ]
  },
  {
   "cell_type": "code",
   "execution_count": 4,
   "id": "f9f4d8e9-5941-4314-aec7-980ad8e1811e",
   "metadata": {},
   "outputs": [],
   "source": [
    "%mkdir Temperature"
   ]
  },
  {
   "cell_type": "code",
   "execution_count": 5,
   "id": "07d035d7-2585-4c9f-a8af-cc882d328432",
   "metadata": {},
   "outputs": [
    {
     "name": "stdout",
     "output_type": "stream",
     "text": [
      "C:\\Users\\Jakob\\Desktop\\SoSe 2023\\VU Advanced Programming Techniques\\Portfolio\\14hinum\\Topic1_Data Science\\data\\Temperature\n"
     ]
    }
   ],
   "source": [
    "%cd Temperature"
   ]
  },
  {
   "cell_type": "code",
   "execution_count": 6,
   "id": "25ceb0f1-5692-4dfa-94b1-47fc974a86e9",
   "metadata": {},
   "outputs": [
    {
     "name": "stdout",
     "output_type": "stream",
     "text": [
      "Downloading climate-change-earth-surface-temperature-data.zip to C:\\Users\\Jakob\\Desktop\\SoSe 2023\\VU Advanced Programming Techniques\\Portfolio\\14hinum\\Topic1_Data Science\\data\\Temperature\n",
      "\n"
     ]
    },
    {
     "name": "stderr",
     "output_type": "stream",
     "text": [
      "\n",
      "  0%|          | 0.00/84.7M [00:00<?, ?B/s]\n",
      "  1%|1         | 1.00M/84.7M [00:00<00:28, 3.09MB/s]\n",
      "  2%|2         | 2.00M/84.7M [00:00<00:20, 4.13MB/s]\n",
      "  5%|4         | 4.00M/84.7M [00:01<00:22, 3.77MB/s]\n",
      "  8%|8         | 7.00M/84.7M [00:01<00:13, 6.18MB/s]\n",
      " 12%|#1        | 10.0M/84.7M [00:01<00:09, 8.45MB/s]\n",
      " 14%|#4        | 12.0M/84.7M [00:01<00:07, 9.95MB/s]\n",
      " 17%|#6        | 14.0M/84.7M [00:01<00:08, 9.17MB/s]\n",
      " 19%|#8        | 16.0M/84.7M [00:02<00:08, 8.25MB/s]\n",
      " 20%|##        | 17.0M/84.7M [00:02<00:10, 7.01MB/s]\n",
      " 22%|##2       | 19.0M/84.7M [00:02<00:08, 8.49MB/s]\n",
      " 25%|##4       | 21.0M/84.7M [00:02<00:06, 9.88MB/s]\n",
      " 28%|##8       | 24.0M/84.7M [00:03<00:06, 10.3MB/s]\n",
      " 31%|###       | 26.0M/84.7M [00:03<00:05, 10.3MB/s]\n",
      " 33%|###3      | 28.0M/84.7M [00:03<00:05, 11.2MB/s]\n",
      " 35%|###5      | 30.0M/84.7M [00:03<00:04, 11.8MB/s]\n",
      " 38%|###7      | 32.0M/84.7M [00:03<00:05, 10.4MB/s]\n",
      " 40%|####      | 34.0M/84.7M [00:04<00:04, 11.3MB/s]\n",
      " 42%|####2     | 36.0M/84.7M [00:04<00:04, 12.4MB/s]\n",
      " 45%|####4     | 38.0M/84.7M [00:04<00:03, 13.6MB/s]\n",
      " 47%|####7     | 40.0M/84.7M [00:04<00:04, 11.1MB/s]\n",
      " 51%|#####     | 43.0M/84.7M [00:04<00:03, 13.5MB/s]\n",
      " 53%|#####3    | 45.0M/84.7M [00:04<00:03, 11.7MB/s]\n",
      " 55%|#####5    | 47.0M/84.7M [00:05<00:03, 11.0MB/s]\n",
      " 58%|#####7    | 49.0M/84.7M [00:05<00:03, 10.9MB/s]\n",
      " 60%|######    | 51.0M/84.7M [00:05<00:03, 11.0MB/s]\n",
      " 63%|######2   | 53.0M/84.7M [00:05<00:03, 10.5MB/s]\n",
      " 65%|######4   | 55.0M/84.7M [00:05<00:02, 11.5MB/s]\n",
      " 67%|######7   | 57.0M/84.7M [00:06<00:02, 10.2MB/s]\n",
      " 70%|######9   | 59.0M/84.7M [00:06<00:02, 11.0MB/s]\n",
      " 72%|#######1  | 61.0M/84.7M [00:06<00:02, 12.0MB/s]\n",
      " 74%|#######4  | 63.0M/84.7M [00:06<00:02, 11.1MB/s]\n",
      " 77%|#######6  | 65.0M/84.7M [00:06<00:01, 11.6MB/s]\n",
      " 79%|#######9  | 67.0M/84.7M [00:07<00:01, 11.1MB/s]\n",
      " 81%|########1 | 69.0M/84.7M [00:07<00:01, 12.9MB/s]\n",
      " 84%|########3 | 71.0M/84.7M [00:07<00:01, 14.1MB/s]\n",
      " 86%|########6 | 73.0M/84.7M [00:07<00:01, 12.0MB/s]\n",
      " 90%|########9 | 76.0M/84.7M [00:07<00:00, 11.6MB/s]\n",
      " 92%|#########2| 78.0M/84.7M [00:07<00:00, 12.3MB/s]\n",
      " 96%|#########5| 81.0M/84.7M [00:08<00:00, 14.3MB/s]\n",
      " 98%|#########7| 83.0M/84.7M [00:08<00:00, 13.3MB/s]\n",
      "100%|##########| 84.7M/84.7M [00:08<00:00, 13.0MB/s]\n",
      "100%|##########| 84.7M/84.7M [00:08<00:00, 10.5MB/s]\n"
     ]
    }
   ],
   "source": [
    "!kaggle datasets download -d berkeleyearth/climate-change-earth-surface-temperature-data"
   ]
  },
  {
   "cell_type": "code",
   "execution_count": null,
   "id": "e18d3bed-6e2c-4a4d-a866-7d7649a873a3",
   "metadata": {},
   "outputs": [],
   "source": []
  }
 ],
 "metadata": {
  "kernelspec": {
   "display_name": "Python 3 (ipykernel)",
   "language": "python",
   "name": "python3"
  },
  "language_info": {
   "codemirror_mode": {
    "name": "ipython",
    "version": 3
   },
   "file_extension": ".py",
   "mimetype": "text/x-python",
   "name": "python",
   "nbconvert_exporter": "python",
   "pygments_lexer": "ipython3",
   "version": "3.10.9"
  }
 },
 "nbformat": 4,
 "nbformat_minor": 5
}
