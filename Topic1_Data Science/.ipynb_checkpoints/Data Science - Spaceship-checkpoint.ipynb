{
 "cells": [
  {
   "cell_type": "markdown",
   "id": "f33c69d1-5f0f-438c-a84f-16d11480628a",
   "metadata": {
    "tags": []
   },
   "source": [
    "# Advanced Programming VU -- Project 2 - Data Science"
   ]
  },
  {
   "cell_type": "markdown",
   "id": "7d8a9ffb-67f8-4330-931c-fe5a789e6dc1",
   "metadata": {},
   "source": [
    " ## 1) Import data from Kaggle and Setting directory"
   ]
  },
  {
   "cell_type": "code",
   "execution_count": 18,
   "id": "eabb1e81-5345-4a18-8d40-6e9793369aa8",
   "metadata": {},
   "outputs": [],
   "source": [
    "from IPython.display import Image\n",
    "from IPython.core.display import HTML "
   ]
  },
  {
   "cell_type": "code",
   "execution_count": 13,
   "id": "81d0e9fc-705d-4fac-a111-599bdcd1d6ea",
   "metadata": {},
   "outputs": [],
   "source": [
    "import kaggle"
   ]
  },
  {
   "cell_type": "code",
   "execution_count": 6,
   "id": "db999d8d-2651-45ab-a103-ca708a5e683c",
   "metadata": {},
   "outputs": [],
   "source": [
    "import os\n"
   ]
  },
  {
   "cell_type": "code",
   "execution_count": 1,
   "id": "57d2493e-2d96-45a7-97b9-021c7994c865",
   "metadata": {},
   "outputs": [
    {
     "name": "stdout",
     "output_type": "stream",
     "text": [
      "C:\\Users\\Jakob\\Desktop\\SoSe 2023\\VU Advanced Programming Techniques\\Portfolio\\14hinum\\Topic1_Data Science\\data\n"
     ]
    }
   ],
   "source": [
    "%cd data"
   ]
  },
  {
   "cell_type": "code",
   "execution_count": 2,
   "id": "f9f4d8e9-5941-4314-aec7-980ad8e1811e",
   "metadata": {},
   "outputs": [],
   "source": [
    "%mkdir Spaceship"
   ]
  },
  {
   "cell_type": "code",
   "execution_count": 4,
   "id": "8a4423ba-df62-4fad-81dc-5ecb5549558f",
   "metadata": {},
   "outputs": [
    {
     "name": "stdout",
     "output_type": "stream",
     "text": [
      "C:\\Users\\Jakob\\Desktop\\SoSe 2023\\VU Advanced Programming Techniques\\Portfolio\\14hinum\\Topic1_Data Science\\data\\Spaceship\n"
     ]
    }
   ],
   "source": [
    "%cd Spaceship"
   ]
  },
  {
   "cell_type": "code",
   "execution_count": 8,
   "id": "07d035d7-2585-4c9f-a8af-cc882d328432",
   "metadata": {},
   "outputs": [
    {
     "name": "stdout",
     "output_type": "stream",
     "text": [
      "Current directory: C:\\Users\\Jakob\\Desktop\\SoSe 2023\\VU Advanced Programming Techniques\\Portfolio\\14hinum\\Topic1_Data Science\\data\\Spaceship\n"
     ]
    }
   ],
   "source": [
    "current_directory = os.getcwd()\n",
    "print(\"Current directory:\", current_directory)\n"
   ]
  },
  {
   "cell_type": "code",
   "execution_count": 4,
   "id": "25ceb0f1-5692-4dfa-94b1-47fc974a86e9",
   "metadata": {},
   "outputs": [
    {
     "name": "stdout",
     "output_type": "stream",
     "text": [
      "Downloading climate-change-earth-surface-temperature-data.zip to C:\\Users\\Jakob\\Desktop\\SoSe 2023\\VU Advanced Programming Techniques\\Portfolio\\14hinum\\Topic1_Data Science\\data\\Temperature\n",
      "\n"
     ]
    },
    {
     "name": "stderr",
     "output_type": "stream",
     "text": [
      "\n",
      "  0%|          | 0.00/84.7M [00:00<?, ?B/s]\n",
      "  1%|1         | 1.00M/84.7M [00:00<00:54, 1.61MB/s]\n",
      "  2%|2         | 2.00M/84.7M [00:00<00:36, 2.36MB/s]\n",
      "  4%|3         | 3.00M/84.7M [00:01<00:25, 3.32MB/s]\n",
      "  5%|4         | 4.00M/84.7M [00:01<00:29, 2.88MB/s]\n",
      "  6%|5         | 5.00M/84.7M [00:01<00:28, 2.95MB/s]\n",
      "  7%|7         | 6.00M/84.7M [00:02<00:22, 3.68MB/s]\n",
      "  8%|8         | 7.00M/84.7M [00:02<00:19, 4.14MB/s]\n",
      "  9%|9         | 8.00M/84.7M [00:02<00:18, 4.29MB/s]\n",
      " 11%|#         | 9.00M/84.7M [00:02<00:17, 4.60MB/s]\n",
      " 12%|#1        | 10.0M/84.7M [00:02<00:16, 4.66MB/s]\n",
      " 13%|#2        | 11.0M/84.7M [00:03<00:15, 5.03MB/s]\n",
      " 14%|#4        | 12.0M/84.7M [00:03<00:14, 5.21MB/s]\n",
      " 15%|#5        | 13.0M/84.7M [00:03<00:15, 4.84MB/s]\n",
      " 17%|#6        | 14.0M/84.7M [00:03<00:14, 5.02MB/s]\n",
      " 18%|#7        | 15.0M/84.7M [00:03<00:14, 5.20MB/s]\n",
      " 19%|#8        | 16.0M/84.7M [00:04<00:13, 5.38MB/s]\n",
      " 20%|##        | 17.0M/84.7M [00:04<00:14, 5.05MB/s]\n",
      " 21%|##1       | 18.0M/84.7M [00:04<00:16, 4.19MB/s]\n",
      " 22%|##2       | 19.0M/84.7M [00:04<00:16, 4.09MB/s]\n",
      " 24%|##3       | 20.0M/84.7M [00:05<00:15, 4.34MB/s]\n",
      " 25%|##4       | 21.0M/84.7M [00:05<00:14, 4.65MB/s]\n",
      " 26%|##5       | 22.0M/84.7M [00:05<00:14, 4.65MB/s]\n",
      " 27%|##7       | 23.0M/84.7M [00:05<00:17, 3.75MB/s]\n",
      " 28%|##8       | 24.0M/84.7M [00:06<00:16, 3.82MB/s]\n",
      " 30%|##9       | 25.0M/84.7M [00:06<00:15, 4.11MB/s]\n",
      " 31%|###       | 26.0M/84.7M [00:06<00:18, 3.26MB/s]\n",
      " 32%|###1      | 27.0M/84.7M [00:07<00:19, 3.05MB/s]\n",
      " 33%|###3      | 28.0M/84.7M [00:07<00:16, 3.53MB/s]\n",
      " 34%|###4      | 29.0M/84.7M [00:07<00:14, 3.96MB/s]\n",
      " 35%|###5      | 30.0M/84.7M [00:07<00:13, 4.15MB/s]\n",
      " 37%|###6      | 31.0M/84.7M [00:08<00:14, 3.98MB/s]\n",
      " 38%|###7      | 32.0M/84.7M [00:08<00:13, 4.18MB/s]\n",
      " 39%|###8      | 33.0M/84.7M [00:08<00:13, 3.97MB/s]\n",
      " 40%|####      | 34.0M/84.7M [00:08<00:12, 4.32MB/s]\n",
      " 41%|####1     | 35.0M/84.7M [00:09<00:12, 4.25MB/s]\n",
      " 42%|####2     | 36.0M/84.7M [00:09<00:12, 4.23MB/s]\n",
      " 44%|####3     | 37.0M/84.7M [00:09<00:12, 3.99MB/s]\n",
      " 45%|####4     | 38.0M/84.7M [00:09<00:12, 3.93MB/s]\n",
      " 46%|####6     | 39.0M/84.7M [00:10<00:11, 4.32MB/s]\n",
      " 47%|####7     | 40.0M/84.7M [00:10<00:11, 4.22MB/s]\n",
      " 48%|####8     | 41.0M/84.7M [00:10<00:09, 4.68MB/s]\n",
      " 50%|####9     | 42.0M/84.7M [00:10<00:09, 4.67MB/s]\n",
      " 51%|#####     | 43.0M/84.7M [00:10<00:08, 5.08MB/s]\n",
      " 52%|#####1    | 44.0M/84.7M [00:11<00:08, 4.89MB/s]\n",
      " 53%|#####3    | 45.0M/84.7M [00:11<00:08, 4.76MB/s]\n",
      " 54%|#####4    | 46.0M/84.7M [00:11<00:07, 5.15MB/s]\n",
      " 55%|#####5    | 47.0M/84.7M [00:11<00:08, 4.87MB/s]\n",
      " 57%|#####6    | 48.0M/84.7M [00:12<00:11, 3.36MB/s]\n",
      " 58%|#####7    | 49.0M/84.7M [00:12<00:10, 3.73MB/s]\n",
      " 59%|#####9    | 50.0M/84.7M [00:12<00:10, 3.37MB/s]\n",
      " 60%|######    | 51.0M/84.7M [00:13<00:09, 3.86MB/s]\n",
      " 61%|######1   | 52.0M/84.7M [00:13<00:08, 4.04MB/s]\n",
      " 63%|######2   | 53.0M/84.7M [00:13<00:07, 4.39MB/s]\n",
      " 64%|######3   | 54.0M/84.7M [00:13<00:07, 4.19MB/s]\n",
      " 65%|######4   | 55.0M/84.7M [00:14<00:07, 4.31MB/s]\n",
      " 66%|######6   | 56.0M/84.7M [00:14<00:06, 4.41MB/s]\n",
      " 67%|######7   | 57.0M/84.7M [00:14<00:06, 4.56MB/s]\n",
      " 68%|######8   | 58.0M/84.7M [00:14<00:05, 4.90MB/s]\n",
      " 70%|######9   | 59.0M/84.7M [00:14<00:06, 4.25MB/s]\n",
      " 71%|#######   | 60.0M/84.7M [00:15<00:06, 3.77MB/s]\n",
      " 72%|#######1  | 61.0M/84.7M [00:15<00:05, 4.23MB/s]\n",
      " 73%|#######3  | 62.0M/84.7M [00:15<00:05, 4.50MB/s]\n",
      " 74%|#######4  | 63.0M/84.7M [00:15<00:05, 4.49MB/s]\n",
      " 76%|#######5  | 64.0M/84.7M [00:16<00:04, 4.65MB/s]\n",
      " 77%|#######6  | 65.0M/84.7M [00:16<00:05, 3.60MB/s]\n",
      " 78%|#######7  | 66.0M/84.7M [00:16<00:05, 3.87MB/s]\n",
      " 79%|#######9  | 67.0M/84.7M [00:17<00:04, 4.05MB/s]\n",
      " 80%|########  | 68.0M/84.7M [00:17<00:03, 4.80MB/s]\n",
      " 81%|########1 | 69.0M/84.7M [00:17<00:03, 4.94MB/s]\n",
      " 83%|########2 | 70.0M/84.7M [00:17<00:02, 5.16MB/s]\n",
      " 84%|########3 | 71.0M/84.7M [00:18<00:03, 3.78MB/s]\n",
      " 85%|########4 | 72.0M/84.7M [00:18<00:03, 3.83MB/s]\n",
      " 86%|########6 | 73.0M/84.7M [00:18<00:02, 4.18MB/s]\n",
      " 87%|########7 | 74.0M/84.7M [00:18<00:02, 4.51MB/s]\n",
      " 89%|########8 | 75.0M/84.7M [00:18<00:02, 4.51MB/s]\n",
      " 90%|########9 | 76.0M/84.7M [00:19<00:02, 4.22MB/s]\n",
      " 91%|######### | 77.0M/84.7M [00:19<00:01, 4.30MB/s]\n",
      " 92%|#########2| 78.0M/84.7M [00:19<00:01, 4.24MB/s]\n",
      " 93%|#########3| 79.0M/84.7M [00:19<00:01, 4.72MB/s]\n",
      " 94%|#########4| 80.0M/84.7M [00:20<00:01, 4.81MB/s]\n",
      " 96%|#########5| 81.0M/84.7M [00:20<00:00, 4.57MB/s]\n",
      " 97%|#########6| 82.0M/84.7M [00:20<00:00, 4.00MB/s]\n",
      " 98%|#########7| 83.0M/84.7M [00:20<00:00, 4.34MB/s]\n",
      " 99%|#########9| 84.0M/84.7M [00:21<00:00, 4.70MB/s]\n",
      "100%|##########| 84.7M/84.7M [00:21<00:00, 5.06MB/s]\n",
      "100%|##########| 84.7M/84.7M [00:21<00:00, 4.21MB/s]\n"
     ]
    }
   ],
   "source": [
    "! kaggle competitions -c berkeleyearth/climate-change-earth-surface-temperature-data"
   ]
  },
  {
   "cell_type": "code",
   "execution_count": 20,
   "id": "7488e3b1-ab6d-4892-99c5-1d92095fac35",
   "metadata": {},
   "outputs": [],
   "source": [
    "import pandas as pd\n",
    "import numpy as np\n",
    "import sklearn\n",
    "\n",
    "from sklearn.preprocessing import StandardScaler, MinMaxScaler, LabelBinarizer\n",
    "from sklearn.svm import SVC\n",
    "from sklearn.preprocessing import OneHotEncoder, LabelEncoder\n",
    "\n",
    "import plotly.graph_objects as go\n",
    "import plotly.express as px\n",
    "import matplotlib.pyplot as plt\n",
    "\n",
    "import seaborn as sns"
   ]
  },
  {
   "cell_type": "markdown",
   "id": "47b563bf-227a-420b-9258-d12eacb2f4f2",
   "metadata": {},
   "source": [
    "## 2) Description of the project "
   ]
  },
  {
   "cell_type": "markdown",
   "id": "52bd2fd1-829d-4bb8-be39-fec332089683",
   "metadata": {},
   "source": [
    "### Climate temperature change\n",
    "\n",
    "Info from kaggle: Some say climate change is the biggest threat of our age while others say it’s a myth based on dodgy science. We are turning some of the data over to you so you can form your own view.\n",
    "\n",
    "us-climate-change\n",
    "\n",
    "Even more than with other data sets that Kaggle has featured, there’s a huge amount of data cleaning and preparation that goes into putting together a long-time study of climate trends. Early data was collected by technicians using mercury thermometers, where any variation in the visit time impacted measurements. In the 1940s, the construction of airports caused many weather stations to be moved. In the 1980s, there was a move to electronic thermometers that are said to have a cooling bias.\n",
    "\n",
    "Given this complexity, there are a range of organizations that collate climate trends data. The three most cited land and ocean temperature data sets are NOAA’s MLOST, NASA’s GISTEMP and the UK’s HadCrut.\n",
    "\n",
    "We have repackaged the data from a newer compilation put together by the Berkeley Earth, which is affiliated with Lawrence Berkeley National Laboratory. The Berkeley Earth Surface Temperature Study combines 1.6 billion temperature reports from 16 pre-existing archives. It is nicely packaged and allows for slicing into interesting subsets (for example by country). They publish the source data and the code for the transformations they applied. They also use methods that allow weather observations from shorter time series to be included, meaning fewer observations need to be thrown away. "
   ]
  },
  {
   "cell_type": "code",
   "execution_count": 25,
   "id": "d1764073-efdf-4cca-bd92-a7742173d07e",
   "metadata": {},
   "outputs": [
    {
     "name": "stdout",
     "output_type": "stream",
     "text": [
      "           dt  LandAverageTemperature  LandAverageTemperatureUncertainty  \\\n",
      "0  1750-01-01                   3.034                              3.574   \n",
      "1  1750-02-01                   3.083                              3.702   \n",
      "2  1750-03-01                   5.626                              3.076   \n",
      "3  1750-04-01                   8.490                              2.451   \n",
      "4  1750-05-01                  11.573                              2.072   \n",
      "\n",
      "   LandMaxTemperature  LandMaxTemperatureUncertainty  LandMinTemperature  \\\n",
      "0                 NaN                            NaN                 NaN   \n",
      "1                 NaN                            NaN                 NaN   \n",
      "2                 NaN                            NaN                 NaN   \n",
      "3                 NaN                            NaN                 NaN   \n",
      "4                 NaN                            NaN                 NaN   \n",
      "\n",
      "   LandMinTemperatureUncertainty  LandAndOceanAverageTemperature  \\\n",
      "0                            NaN                             NaN   \n",
      "1                            NaN                             NaN   \n",
      "2                            NaN                             NaN   \n",
      "3                            NaN                             NaN   \n",
      "4                            NaN                             NaN   \n",
      "\n",
      "   LandAndOceanAverageTemperatureUncertainty  \n",
      "0                                        NaN  \n",
      "1                                        NaN  \n",
      "2                                        NaN  \n",
      "3                                        NaN  \n",
      "4                                        NaN  \n"
     ]
    }
   ],
   "source": [
    "# Load the GlobalTemperatures.csv file\n",
    "df = pd.read_csv('GlobalTemperatures.csv')\n",
    "\n",
    "# View the first few rows of the data\n",
    "print(df.head())\n"
   ]
  },
  {
   "cell_type": "code",
   "execution_count": 26,
   "id": "1887a1f2-12a2-4220-9722-6709b9697a5b",
   "metadata": {},
   "outputs": [
    {
     "name": "stdout",
     "output_type": "stream",
     "text": [
      "           dt  LandAverageTemperature  LandAverageTemperatureUncertainty  \\\n",
      "0  1750-01-01                   3.034                              3.574   \n",
      "1  1750-02-01                   3.083                              3.702   \n",
      "2  1750-03-01                   5.626                              3.076   \n",
      "3  1750-04-01                   8.490                              2.451   \n",
      "4  1750-05-01                  11.573                              2.072   \n",
      "\n",
      "   LandMaxTemperature  LandMaxTemperatureUncertainty  LandMinTemperature  \\\n",
      "0                 NaN                            NaN                 NaN   \n",
      "1                 NaN                            NaN                 NaN   \n",
      "2                 NaN                            NaN                 NaN   \n",
      "3                 NaN                            NaN                 NaN   \n",
      "4                 NaN                            NaN                 NaN   \n",
      "\n",
      "   LandMinTemperatureUncertainty  LandAndOceanAverageTemperature  \\\n",
      "0                            NaN                             NaN   \n",
      "1                            NaN                             NaN   \n",
      "2                            NaN                             NaN   \n",
      "3                            NaN                             NaN   \n",
      "4                            NaN                             NaN   \n",
      "\n",
      "   LandAndOceanAverageTemperatureUncertainty  \n",
      "0                                        NaN  \n",
      "1                                        NaN  \n",
      "2                                        NaN  \n",
      "3                                        NaN  \n",
      "4                                        NaN  \n"
     ]
    }
   ],
   "source": [
    "print(df.head())"
   ]
  },
  {
   "cell_type": "code",
   "execution_count": null,
   "id": "607511b9-88e5-4c92-b558-cd6d18040937",
   "metadata": {},
   "outputs": [],
   "source": []
  }
 ],
 "metadata": {
  "kernelspec": {
   "display_name": "Python 3 (ipykernel)",
   "language": "python",
   "name": "python3"
  },
  "language_info": {
   "codemirror_mode": {
    "name": "ipython",
    "version": 3
   },
   "file_extension": ".py",
   "mimetype": "text/x-python",
   "name": "python",
   "nbconvert_exporter": "python",
   "pygments_lexer": "ipython3",
   "version": "3.10.9"
  }
 },
 "nbformat": 4,
 "nbformat_minor": 5
}
